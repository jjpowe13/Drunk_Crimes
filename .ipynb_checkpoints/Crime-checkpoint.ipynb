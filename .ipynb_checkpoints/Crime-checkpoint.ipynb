{
 "cells": [
  {
   "cell_type": "markdown",
   "metadata": {},
   "source": [
    "# IS833: The Analytic Enterprise\n",
    "### Team Dangerous Bar: \n",
    "#### Mike Goodridge, John Power, Sid Shandilya, Andrew Yellis & Dongbo Zhang"
   ]
  },
  {
   "cell_type": "code",
   "execution_count": 2,
   "metadata": {
    "collapsed": true
   },
   "outputs": [],
   "source": [
    "import numpy as np\n",
    "import pandas as pd\n",
    "import matplotlib as mpl\n",
    "import matplotlib.pyplot as plt\n",
    "import statsmodels.api as sm\n",
    "from statsmodels.formula.api import ols\n",
    "from statsmodels.formula.api import logit\n",
    "from geopy.geocoders import Nominatim\n",
    "\n",
    "import pylab as pl\n",
    "import seaborn as sns\n",
    "\n",
    "mpl.style.use('fivethirtyeight')\n",
    "%matplotlib inline"
   ]
  },
  {
   "cell_type": "markdown",
   "metadata": {},
   "source": [
    "## Crime Data, Cleaning & Analysis"
   ]
  },
  {
   "cell_type": "code",
   "execution_count": 2,
   "metadata": {
    "collapsed": false
   },
   "outputs": [],
   "source": [
    "crime = pd.read_csv('https://raw.githubusercontent.com/jjpowe13/Drunk_Crimes/master/Drunk_Crime_Reports.csv')\n",
    "crime = crime.drop(crime.columns[3:21], axis=1)\n",
    "crime = crime.drop(crime.columns[0:2], axis=1)\n",
    "crime = crime[crime.Latitude_Fixed != 0]\n",
    "crime = crime.reset_index(drop=True)\n",
    "crime['Zip'] = ''"
   ]
  },
  {
   "cell_type": "code",
   "execution_count": 3,
   "metadata": {
    "collapsed": false
   },
   "outputs": [],
   "source": [
    "def findzip(x,y):\n",
    "    geolocator = Nominatim()\n",
    "    location = [x, y]\n",
    "    location = str(location)\n",
    "    location = location.strip('[]')\n",
    "    location = geolocator.reverse(location)\n",
    "    location = str(location.raw)\n",
    "    location = location.split(',')\n",
    "    zip = location[7].strip()\n",
    "    return zip"
   ]
  },
  {
   "cell_type": "code",
   "execution_count": 4,
   "metadata": {
    "collapsed": false
   },
   "outputs": [],
   "source": [
    "test = crime.head(5)\n",
    "test = test.reset_index(drop=True)\n",
    "test['Zip'] = ''"
   ]
  },
  {
   "cell_type": "code",
   "execution_count": 5,
   "metadata": {
    "collapsed": false
   },
   "outputs": [
    {
     "name": "stdout",
     "output_type": "stream",
     "text": [
      "  INCIDENT_TYPE_DESCRIPTION  Latitude_Fixed  Longitude_Fixed    Zip\n",
      "0                DISORDERLY       42.314001        -71.08634  02121\n",
      "1                DISORDERLY       42.288621        -71.07558  02124\n",
      "2                DISORDERLY       42.251951        -71.12532  02136\n",
      "3                DISORDERLY       42.328021        -71.09237  02119\n",
      "4                DISORDERLY       42.306752        -71.06028  02122\n"
     ]
    }
   ],
   "source": [
    "for i in test.index:\n",
    "    test.ix[i, 'Zip'] = findzip(test.Latitude_Fixed[i], test.Longitude_Fixed[i])\n",
    "print test"
   ]
  },
  {
   "cell_type": "markdown",
   "metadata": {
    "collapsed": false
   },
   "source": [
    "### The loop against the full data set does run, but due to rate limits cannot be applied as many times as we'd like. After running it successfully we appended the results to a new CSV, and pull it in below."
   ]
  },
  {
   "cell_type": "code",
   "execution_count": 6,
   "metadata": {
    "collapsed": false
   },
   "outputs": [],
   "source": [
    "#for i in crime.index:\n",
    "#    crime.ix[i, 'Zip'] = findzip(crime.Latitude_Fixed[i], crime.Longitude_Fixed[i])\n",
    "# print crime.sample(5)"
   ]
  },
  {
   "cell_type": "code",
   "execution_count": 60,
   "metadata": {
    "collapsed": false
   },
   "outputs": [],
   "source": [
    "crime = pd.read_csv('https://raw.githubusercontent.com/jjpowe13/Drunk_Crimes/master/Drunk_Crime_Reports2.csv')\n",
    "crime = crime.drop(crime.columns[3:22], axis=1)\n",
    "crime = crime.drop(crime.columns[0:2], axis=1)\n",
    "crime.rename(columns = {'postcode':'Zip'}, inplace = True)"
   ]
  },
  {
   "cell_type": "code",
   "execution_count": 61,
   "metadata": {
    "collapsed": false
   },
   "outputs": [],
   "source": [
    "crimepivot = pd.pivot_table(crime,index=['Zip'],values=['INCIDENT_TYPE_DESCRIPTION'],aggfunc=len)"
   ]
  },
  {
   "cell_type": "code",
   "execution_count": 62,
   "metadata": {
    "collapsed": false
   },
   "outputs": [
    {
     "data": {
      "text/plain": [
       "<matplotlib.axes._subplots.AxesSubplot at 0x11d30d590>"
      ]
     },
     "execution_count": 62,
     "metadata": {},
     "output_type": "execute_result"
    },
    {
     "data": {
      "image/png": "[encoded data removed]",
      "text/plain": [
       "<matplotlib.figure.Figure at 0x11b029590>"
      ]
     },
     "metadata": {},
     "output_type": "display_data"
    }
   ],
   "source": [
    "crimepivot.INCIDENT_TYPE_DESCRIPTION.plot(kind='bar', figsize=(10,7))"
   ]
  },
  {
   "cell_type": "markdown",
   "metadata": {},
   "source": [
    "These represent count of crimes broken up by zip code. Awesome!"
   ]
  },
  {
   "cell_type": "markdown",
   "metadata": {},
   "source": [
    "## Liquor License Information"
   ]
  },
  {
   "cell_type": "code",
   "execution_count": 90,
   "metadata": {
    "collapsed": false
   },
   "outputs": [],
   "source": [
    "liquor = pd.read_csv('https://raw.githubusercontent.com/jjpowe13/Drunk_Crimes/master/Liquor_License_Data.csv')\n",
    "liquor = liquor.drop(liquor.columns[3:21], axis=1)\n",
    "liquor = liquor.drop(liquor.columns[4:9], axis=1)\n",
    "liquor = liquor.reset_index(drop=True)\n",
    "liquor.rename(columns = {'ZIP':'Zip'}, inplace = True)"
   ]
  },
  {
   "cell_type": "code",
   "execution_count": 79,
   "metadata": {
    "collapsed": false
   },
   "outputs": [],
   "source": [
    "liqpivot = pd.pivot_table(liquor,index=['Zip'], values=['LICENSENO'], aggfunc = lambda x: len(x.unique()))"
   ]
  },
  {
   "cell_type": "code",
   "execution_count": 80,
   "metadata": {
    "collapsed": false
   },
   "outputs": [
    {
     "data": {
      "text/plain": [
       "<matplotlib.axes._subplots.AxesSubplot at 0x11e861890>"
      ]
     },
     "execution_count": 80,
     "metadata": {},
     "output_type": "execute_result"
    },
    {
     "data": {
      "image/png": "[encoded data removed]",
      "text/plain": [
       "<matplotlib.figure.Figure at 0x11d1d23d0>"
      ]
     },
     "metadata": {},
     "output_type": "display_data"
    }
   ],
   "source": [
    "liqpivot.LICENSENO.plot(kind='bar', figsize=(10,7))"
   ]
  },
  {
   "cell_type": "code",
   "execution_count": 66,
   "metadata": {
    "collapsed": false
   },
   "outputs": [],
   "source": [
    "crimepivot = crimepivot[crimepivot.index.isin(liqpivot.index)]"
   ]
  },
  {
   "cell_type": "code",
   "execution_count": 67,
   "metadata": {
    "collapsed": false
   },
   "outputs": [
    {
     "data": {
      "image/png": "[encoded data removed]",
      "text/plain": [
       "<matplotlib.figure.Figure at 0x11ada0690>"
      ]
     },
     "metadata": {},
     "output_type": "display_data"
    }
   ],
   "source": [
    "fig = plt.figure(figsize=(10,7))\n",
    "\n",
    "ax = fig.add_subplot(111)\n",
    "\n",
    "width = 0.5\n",
    "\n",
    "crimepivot.INCIDENT_TYPE_DESCRIPTION.plot(kind='bar', color='red', ax=ax, width=width, position=1)\n",
    "liqpivot.LICENSENO.plot(kind='bar', color='blue', ax=ax, width=width, position=0)\n",
    "\n",
    "ax.set_ylabel('Count')\n",
    "\n",
    "plt.show()"
   ]
  },
  {
   "cell_type": "code",
   "execution_count": 91,
   "metadata": {
    "collapsed": false
   },
   "outputs": [],
   "source": [
    "liquor = liquor[liquor.Zip != 2119]"
   ]
  },
  {
   "cell_type": "code",
   "execution_count": 94,
   "metadata": {
    "collapsed": false
   },
   "outputs": [],
   "source": [
    "liqpivot2 = pd.pivot_table(liquor,index=['Zip'],values=['LICENSENO'],aggfunc=len)"
   ]
  },
  {
   "cell_type": "code",
   "execution_count": 96,
   "metadata": {
    "collapsed": false
   },
   "outputs": [],
   "source": [
    "crimepivot2 = pd.pivot_table(crime,index=['Zip'],values=['INCIDENT_TYPE_DESCRIPTION'],aggfunc=len)\n",
    "crimepivot2 = crimepivot2[crimepivot2.index.isin(liqpivot2.index)]"
   ]
  },
  {
   "cell_type": "code",
   "execution_count": 97,
   "metadata": {
    "collapsed": false
   },
   "outputs": [
    {
     "data": {
      "image/png": "[encoded data removed]",
      "text/plain": [
       "<matplotlib.figure.Figure at 0x11c193f50>"
      ]
     },
     "metadata": {},
     "output_type": "display_data"
    }
   ],
   "source": [
    "fig = plt.figure(figsize=(10,7))\n",
    "\n",
    "ax = fig.add_subplot(111)\n",
    "\n",
    "width = 0.5\n",
    "\n",
    "crimepivot2.INCIDENT_TYPE_DESCRIPTION.plot(kind='bar', color='red', ax=ax, width=width, position=1)\n",
    "liqpivot2.LICENSENO.plot(kind='bar', color='blue', ax=ax, width=width, position=0)\n",
    "\n",
    "ax.set_ylabel('Count')\n",
    "\n",
    "plt.show()"
   ]
  },
  {
   "cell_type": "code",
   "execution_count": 104,
   "metadata": {
    "collapsed": false
   },
   "outputs": [
    {
     "data": {
      "text/plain": [
       "2.0"
      ]
     },
     "execution_count": 104,
     "metadata": {},
     "output_type": "execute_result"
    }
   ],
   "source": [
    "float(crimepivot2['INCIDENT_TYPE_DESCRIPTION'].sum() / liqpivot2['LICENSENO'].sum())"
   ]
  },
  {
   "cell_type": "code",
   "execution_count": null,
   "metadata": {
    "collapsed": true
   },
   "outputs": [],
   "source": []
  }
 ],
 "metadata": {
  "kernelspec": {
   "display_name": "Python 2",
   "language": "python",
   "name": "python2"
  },
  "language_info": {
   "codemirror_mode": {
    "name": "ipython",
    "version": 2
   },
   "file_extension": ".py",
   "mimetype": "text/x-python",
   "name": "python",
   "nbconvert_exporter": "python",
   "pygments_lexer": "ipython2",
   "version": "2.7.11"
  }
 },
 "nbformat": 4,
 "nbformat_minor": 0
}
