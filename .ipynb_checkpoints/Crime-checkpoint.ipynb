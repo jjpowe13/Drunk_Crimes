{
 "cells": [
  {
   "cell_type": "code",
   "execution_count": 46,
   "metadata": {
    "collapsed": true
   },
   "outputs": [],
   "source": [
    "import numpy as np\n",
    "import pandas as pd\n",
    "import matplotlib as mpl\n",
    "import matplotlib.pyplot as plt\n",
    "import statsmodels.api as sm\n",
    "from statsmodels.formula.api import ols\n",
    "from statsmodels.formula.api import logit\n",
    "from geopy.geocoders import Nominatim\n",
    "\n",
    "import pylab as pl\n",
    "import seaborn as sns\n",
    "\n",
    "mpl.style.use('fivethirtyeight')\n",
    "%matplotlib inline"
   ]
  },
  {
   "cell_type": "code",
   "execution_count": 47,
   "metadata": {
    "collapsed": false
   },
   "outputs": [
    {
     "data": {
      "text/html": [
       "<div>\n",
       "<table border=\"1\" class=\"dataframe\">\n",
       "  <thead>\n",
       "    <tr style=\"text-align: right;\">\n",
       "      <th></th>\n",
       "      <th>INCIDENT_TYPE_DESCRIPTION</th>\n",
       "      <th>Latitude_Fixed</th>\n",
       "      <th>Longitude_Fixed</th>\n",
       "    </tr>\n",
       "  </thead>\n",
       "  <tbody>\n",
       "    <tr>\n",
       "      <th>0</th>\n",
       "      <td>DISORDERLY</td>\n",
       "      <td>42.314001</td>\n",
       "      <td>-71.08634</td>\n",
       "    </tr>\n",
       "    <tr>\n",
       "      <th>1</th>\n",
       "      <td>DISORDERLY</td>\n",
       "      <td>42.288621</td>\n",
       "      <td>-71.07558</td>\n",
       "    </tr>\n",
       "    <tr>\n",
       "      <th>2</th>\n",
       "      <td>DISORDERLY</td>\n",
       "      <td>42.251951</td>\n",
       "      <td>-71.12532</td>\n",
       "    </tr>\n",
       "    <tr>\n",
       "      <th>3</th>\n",
       "      <td>DISORDERLY</td>\n",
       "      <td>42.328021</td>\n",
       "      <td>-71.09237</td>\n",
       "    </tr>\n",
       "    <tr>\n",
       "      <th>4</th>\n",
       "      <td>DISORDERLY</td>\n",
       "      <td>42.306752</td>\n",
       "      <td>-71.06028</td>\n",
       "    </tr>\n",
       "  </tbody>\n",
       "</table>\n",
       "</div>"
      ],
      "text/plain": [
       "  INCIDENT_TYPE_DESCRIPTION  Latitude_Fixed  Longitude_Fixed\n",
       "0                DISORDERLY       42.314001        -71.08634\n",
       "1                DISORDERLY       42.288621        -71.07558\n",
       "2                DISORDERLY       42.251951        -71.12532\n",
       "3                DISORDERLY       42.328021        -71.09237\n",
       "4                DISORDERLY       42.306752        -71.06028"
      ]
     },
     "execution_count": 47,
     "metadata": {},
     "output_type": "execute_result"
    }
   ],
   "source": [
    "crime = pd.read_csv('https://raw.githubusercontent.com/jjpowe13/Drunk_Crimes/master/Drunk_Crime_Reports.csv')\n",
    "crime = crime.drop(crime.columns[3:21], axis=1)\n",
    "crime = crime.drop(crime.columns[0:2], axis=1)\n",
    "crime = crime.reset_index(drop=True)\n",
    "crime.head()"
   ]
  },
  {
   "cell_type": "code",
   "execution_count": 48,
   "metadata": {
    "collapsed": false
   },
   "outputs": [],
   "source": [
    "def findzip(x,y):\n",
    "    geolocator = Nominatim()\n",
    "    location = [x, y]\n",
    "    location = str(location)\n",
    "    location = location.strip('[]')\n",
    "    location = geolocator.reverse(location)\n",
    "    location = str(location.raw)\n",
    "    location = location.split(',')\n",
    "    zip = location[7].strip()\n",
    "    return zip"
   ]
  },
  {
   "cell_type": "code",
   "execution_count": 51,
   "metadata": {
    "collapsed": false
   },
   "outputs": [
    {
     "name": "stdout",
     "output_type": "stream",
     "text": [
      "  INCIDENT_TYPE_DESCRIPTION  Latitude_Fixed  Longitude_Fixed\n",
      "0                DISORDERLY       42.314001        -71.08634\n",
      "1                DISORDERLY       42.288621        -71.07558\n",
      "2                DISORDERLY       42.251951        -71.12532\n",
      "3                DISORDERLY       42.328021        -71.09237\n",
      "4                DISORDERLY       42.306752        -71.06028\n"
     ]
    }
   ],
   "source": [
    "test_set = crime.head(5)\n",
    "print test_set"
   ]
  },
  {
   "cell_type": "code",
   "execution_count": 61,
   "metadata": {
    "collapsed": false
   },
   "outputs": [
    {
     "name": "stderr",
     "output_type": "stream",
     "text": [
      "/Users/ayellis/anaconda/lib/python2.7/site-packages/ipykernel/__main__.py:1: SettingWithCopyWarning: \n",
      "A value is trying to be set on a copy of a slice from a DataFrame.\n",
      "Try using .loc[row_indexer,col_indexer] = value instead\n",
      "\n",
      "See the caveats in the documentation: http://pandas.pydata.org/pandas-docs/stable/indexing.html#indexing-view-versus-copy\n",
      "  if __name__ == '__main__':\n"
     ]
    }
   ],
   "source": [
    "test_set['Zip'] = findzip(test_set.Latitude_Fixed[1], test_set.Longitude_Fixed[1])"
   ]
  },
  {
   "cell_type": "code",
   "execution_count": 62,
   "metadata": {
    "collapsed": false
   },
   "outputs": [
    {
     "name": "stdout",
     "output_type": "stream",
     "text": [
      "  INCIDENT_TYPE_DESCRIPTION  Latitude_Fixed  Longitude_Fixed    Zip\n",
      "0                DISORDERLY       42.314001        -71.08634  02124\n",
      "1                DISORDERLY       42.288621        -71.07558  02124\n",
      "2                DISORDERLY       42.251951        -71.12532  02124\n",
      "3                DISORDERLY       42.328021        -71.09237  02124\n",
      "4                DISORDERLY       42.306752        -71.06028  02124\n"
     ]
    }
   ],
   "source": [
    "print test_set"
   ]
  },
  {
   "cell_type": "markdown",
   "metadata": {},
   "source": [
    "Next step - set the 'geolocate' function to be able to read in the data frame..."
   ]
  },
  {
   "cell_type": "markdown",
   "metadata": {},
   "source": [
    "## Did nothing below here."
   ]
  },
  {
   "cell_type": "code",
   "execution_count": 127,
   "metadata": {
    "collapsed": false
   },
   "outputs": [],
   "source": [
    "#x = pd.concat([crime[['Latitude_Fixed']], crime[['Longitude_Fixed']]])\n",
    "#crime2 = np.insert(crime.Latitude_Fixed, crime.Longitude_Fixed, axis=1)\n",
    "#crime2 = crime2.join(crime.Longitude_Fixed)\n",
    "#crime2 = crime.loc[:,crime.columns.tolist()[1:]].apply(lambda x: x.dropna().tolist(), 1)\n",
    "#crime['geolocation'] = crime.merge([[crime.Latitude_Fixed], [crime.Longitude_Fixed]])\n",
    "#crime['combined'] = \n",
    "\n",
    "#df = pd.concat([df1[['value']], df2[['value']]])\n",
    "#crime2"
   ]
  },
  {
   "cell_type": "code",
   "execution_count": null,
   "metadata": {
    "collapsed": true
   },
   "outputs": [],
   "source": [
    "#test= pd.read_csv('https://raw.githubusercontent.com/jjpowe13/Drunk_Crimes/master/Drunk_Crime_Reports.csv')\n",
    "#test = test.drop(test.columns[3:19], axis=1)\n",
    "#test = test.drop(test.columns[[0,1,4,5]], axis=1)\n",
    "#test = test.reset_index(drop=True)\n",
    "#test.head()"
   ]
  },
  {
   "cell_type": "code",
   "execution_count": null,
   "metadata": {
    "collapsed": false
   },
   "outputs": [],
   "source": [
    "# test['zip'] = geocoder.google(test['Geo']).postal\n",
    "#mypivot = pd.pivot_table(aisehi,index=['zip'], values=['INCIDENT_TYPE_DESCRIPTION'], aggfunc = lambda x: len(x.unique()))\n",
    "#mypivot\n",
    "# test"
   ]
  },
  {
   "cell_type": "code",
   "execution_count": null,
   "metadata": {
    "collapsed": false
   },
   "outputs": [],
   "source": [
    "import geocoder\n",
    "test['zip'] = geocoder.google(aisehi['Geo'].all()).postal\n",
    "\n",
    "test"
   ]
  },
  {
   "cell_type": "code",
   "execution_count": null,
   "metadata": {
    "collapsed": false
   },
   "outputs": [],
   "source": []
  },
  {
   "cell_type": "code",
   "execution_count": null,
   "metadata": {
    "collapsed": false
   },
   "outputs": [],
   "source": [
    "#>>> import geocoder\n",
    "#>>> crime['zip'] = geocoder.google(crime['Latitude_Fixed'], crime['Longitude_Fixed']).postal\n",
    "#crime\n",
    "#crime.Longitude_Fixed"
   ]
  }
 ],
 "metadata": {
  "kernelspec": {
   "display_name": "Python 2",
   "language": "python",
   "name": "python2"
  },
  "language_info": {
   "codemirror_mode": {
    "name": "ipython",
    "version": 2
   },
   "file_extension": ".py",
   "mimetype": "text/x-python",
   "name": "python",
   "nbconvert_exporter": "python",
   "pygments_lexer": "ipython2",
   "version": "2.7.11"
  }
 },
 "nbformat": 4,
 "nbformat_minor": 0
}
