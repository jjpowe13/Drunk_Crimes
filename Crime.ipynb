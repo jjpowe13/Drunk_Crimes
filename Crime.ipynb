{
 "cells": [
  {
   "cell_type": "markdown",
   "metadata": {},
   "source": [
    "# IS833: The Analytic Enterprise\n",
    "### Team Dangerous Bar: \n",
    "#### Mike Goodridge, John Power, Sid Shandilya, Andrew Yellis & Dongbo Zhang"
   ]
  },
  {
   "cell_type": "code",
   "execution_count": 226,
   "metadata": {
    "collapsed": true
   },
   "outputs": [],
   "source": [
    "import numpy as np\n",
    "import pandas as pd\n",
    "import matplotlib as mpl\n",
    "import matplotlib.pyplot as plt\n",
    "import statsmodels.api as sm\n",
    "import scipy.stats as stats\n",
    "from statsmodels.formula.api import ols\n",
    "from statsmodels.formula.api import logit\n",
    "from geopy.geocoders import Nominatim\n",
    "\n",
    "import pylab as pl\n",
    "import seaborn as sns\n",
    "\n",
    "mpl.style.use('fivethirtyeight')\n",
    "%matplotlib inline"
    <img src="files/Screen Shot 2016-04-25 at 4.28.09 PM.png">
   ]
  },
  {
   "cell_type": "markdown",
   "metadata": {},
   "source": [
    "## Crime Data, Cleaning & Analysis"
   ]
  },
  {
   "cell_type": "code",
   "execution_count": 2,
   "metadata": {
    "collapsed": false
   },
   "outputs": [],
   "source": [
    "crime = pd.read_csv('https://raw.githubusercontent.com/jjpowe13/Drunk_Crimes/master/Drunk_Crime_Reports.csv')\n",
    "crime = crime.drop(crime.columns[3:21], axis=1)\n",
    "crime = crime.drop(crime.columns[0:2], axis=1)\n",
    "crime = crime[crime.Latitude_Fixed != 0]\n",
    "crime = crime.reset_index(drop=True)\n",
    "crime['Zip'] = ''"
   ]
  },
  {
   "cell_type": "code",
   "execution_count": 3,
   "metadata": {
    "collapsed": false
   },
   "outputs": [],
   "source": [
    "def findzip(x,y):\n",
    "    geolocator = Nominatim()\n",
    "    location = [x, y]\n",
    "    location = str(location)\n",
    "    location = location.strip('[]')\n",
    "    location = geolocator.reverse(location)\n",
    "    location = str(location.raw)\n",
    "    location = location.split(',')\n",
    "    zip = location[7].strip()\n",
    "    return zip"
   ]
  },
  {
   "cell_type": "code",
   "execution_count": 4,
   "metadata": {
    "collapsed": false
   },
   "outputs": [],
   "source": [
    "test = crime.head(5)\n",
    "test = test.reset_index(drop=True)\n",
    "test['Zip'] = ''"
   ]
  },
  {
   "cell_type": "code",
   "execution_count": 5,
   "metadata": {
    "collapsed": false
   },
   "outputs": [
    {
     "name": "stdout",
     "output_type": "stream",
     "text": [
      "  INCIDENT_TYPE_DESCRIPTION  Latitude_Fixed  Longitude_Fixed    Zip\n",
      "0                DISORDERLY       42.314001        -71.08634  02121\n",
      "1                DISORDERLY       42.288621        -71.07558  02124\n",
      "2                DISORDERLY       42.251951        -71.12532  02136\n",
      "3                DISORDERLY       42.328021        -71.09237  02119\n",
      "4                DISORDERLY       42.306752        -71.06028  02122\n"
     ]
    }
   ],
   "source": [
    "for i in test.index:\n",
    "    test.ix[i, 'Zip'] = findzip(test.Latitude_Fixed[i], test.Longitude_Fixed[i])\n",
    "print test"
   ]
  },
  {
   "cell_type": "markdown",
   "metadata": {
    "collapsed": false
   },
   "source": [
    "### The loop against the full data set does run, but due to rate limits cannot be applied as many times as we'd like. After running it successfully we appended the results to a new CSV, and pull it in below."
   ]
  },
  {
   "cell_type": "code",
   "execution_count": 6,
   "metadata": {
    "collapsed": false
   },
   "outputs": [],
   "source": [
    "#for i in crime.index:\n",
    "#    crime.ix[i, 'Zip'] = findzip(crime.Latitude_Fixed[i], crime.Longitude_Fixed[i])\n",
    "# print crime.sample(5)"
   ]
  },
  {
   "cell_type": "code",
   "execution_count": 60,
   "metadata": {
    "collapsed": false
   },
   "outputs": [],
   "source": [
    "crime = pd.read_csv('https://raw.githubusercontent.com/jjpowe13/Drunk_Crimes/master/Drunk_Crime_Reports2.csv')\n",
    "crime = crime.drop(crime.columns[3:22], axis=1)\n",
    "crime = crime.drop(crime.columns[0:2], axis=1)\n",
    "crime.rename(columns = {'postcode':'Zip'}, inplace = True)"
   ]
  },
  {
   "cell_type": "code",
   "execution_count": 61,
   "metadata": {
    "collapsed": false
   },
   "outputs": [],
   "source": [
    "crimepivot = pd.pivot_table(crime,index=['Zip'],values=['INCIDENT_TYPE_DESCRIPTION'],aggfunc=len)"
   ]
  },
  {
   "cell_type": "code",
   "execution_count": 62,
   "metadata": {
    "collapsed": false
   },
   "outputs": [
    {
     "data": {
      "text/plain": [
       "<matplotlib.axes._subplots.AxesSubplot at 0x11d30d590>"
      ]
     },
     "execution_count": 62,
     "metadata": {},
     "output_type": "execute_result"
    },
    {
     "data": {
      "image/png": "iVBORw0KGgoAAAANSUhEUgAAApgAAAHOCAYAAAA8Dnm+AAAABHNCSVQICAgIfAhkiAAAAAlwSFlz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\n",
      "text/plain": [
       "<matplotlib.figure.Figure at 0x11b029590>"
      ]
     },
     "metadata": {},
     "output_type": "display_data"
    }
   ],
   "source": [
    "crimepivot.INCIDENT_TYPE_DESCRIPTION.plot(kind='bar', figsize=(10,7))"
   ]
  },
  {
   "cell_type": "markdown",
   "metadata": {},
   "source": [
    "These represent count of crimes broken up by zip code. Awesome!"
   ]
  },
  {
   "cell_type": "markdown",
   "metadata": {},
   "source": [
    "## Liquor License Information"
   ]
  },
  {
   "cell_type": "code",
   "execution_count": 157,
   "metadata": {
    "collapsed": false
   },
   "outputs": [],
   "source": [
    "liquor = pd.read_csv('https://raw.githubusercontent.com/jjpowe13/Drunk_Crimes/master/Liquor_License_Data.csv')\n",
    "liquor = liquor.drop(liquor.columns[3:21], axis=1)\n",
    "liquor = liquor.drop(liquor.columns[4:9], axis=1)\n",
    "liquor = liquor.reset_index(drop=True)\n",
    "liquor.rename(columns = {'ZIP':'Zip'}, inplace = True)"
   ]
  },
  {
   "cell_type": "code",
   "execution_count": 158,
   "metadata": {
    "collapsed": false
   },
   "outputs": [],
   "source": [
    "liqpivot = pd.pivot_table(liquor,index=['Zip'], values=['LICENSENO'], aggfunc = lambda x: len(x.unique()))"
   ]
  },
  {
   "cell_type": "code",
   "execution_count": 159,
   "metadata": {
    "collapsed": false
   },
   "outputs": [
    {
     "data": {
      "text/plain": [
       "<matplotlib.axes._subplots.AxesSubplot at 0x11ae999d0>"
      ]
     },
     "execution_count": 159,
     "metadata": {},
     "output_type": "execute_result"
    },
    {
     "data": {
      "image/png": "iVBORw0KGgoAAAANSUhEUgAAApgAAAHGCAYAAADQXfvTAAAABHNCSVQICAgIfAhkiAAAAAlwSFlz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\n",
      "text/plain": [
       "<matplotlib.figure.Figure at 0x11d28c310>"
      ]
     },
     "metadata": {},
     "output_type": "display_data"
    }
   ],
   "source": [
    "liqpivot.LICENSENO.plot(kind='bar', figsize=(10,7))"
   ]
  },
  {
   "cell_type": "markdown",
   "metadata": {},
   "source": [
    "## Comparing Bar/Crime counts."
   ]
  },
  {
   "cell_type": "code",
   "execution_count": 147,
   "metadata": {
    "collapsed": false
   },
   "outputs": [],
   "source": [
    "crimepivot = crimepivot[crimepivot.index.isin(liqpivot.index)]"
   ]
  },
  {
   "cell_type": "code",
   "execution_count": 67,
   "metadata": {
    "collapsed": false
   },
   "outputs": [
    {
     "data": {
      "image/png": "iVBORw0KGgoAAAANSUhEUgAAAqcAAAHGCAYAAABJpSJmAAAABHNCSVQICAgIfAhkiAAAAAlwSFlz\nAAALEgAACxIB0t1+/AAAIABJREFUeJzt3X+8ZXVd7/HXmR8QwswpEaEiaczZH+pBoCQapg6ZKFgD\nlg/HNDIyoYwwLb1X8WpWDnjTsEsoJYxhaemImAVhVJQzI5AEYk7ix911JCfvCCacAfk5zLl/rH2G\nzenMzD5nn+8533XO6/l4zGP2XnvNZ3/O3nvteZ/vWt+1RsbHx5EkSZJqsGS+G5AkSZImGE4lSZJU\nDcOpJEmSqmE4lSRJUjUMp5IkSaqG4VSSJEnVWFayeEQsAz4IfD+wCzgLeAS4HNgNbM3Mc3rrngWc\nDTwMrM/Mq0v2JkmSpPqUHjl9EbA0M38M+F3gfOBC4LzMXAMsiYjTI+Jw4FzgROAU4IKIWF64N0mS\nJFWmdDj9MrAsIkaAUZpR0eMzc3Pv8WuAk4FnAFsyc1dm7gS6wLGFe5MkSVJliu7WB+4FVgFfAg4F\n1gLP6Xv8HmAlsAIYm/TvRgv3JkmSpMqUDqevBz6VmW+JiO8F/gk4oO/xFcDdwE6akDp5+ZTGxsa8\n5qokSVLLjY6OjkxeVnq3/rd4dET0bpow/LmIWNNbdiqwGbgJeHZEHBARo8DRwNbCvUmSJKkyI+Pj\n5QYhI+Jg4APAdwPLgT8AbgYu692/DTgrM8cj4peAXwZGaGbr/+Xe6jpyKkmS1H5zPnKamd/OzJdl\n5nMz88TM/Ghm/ntmnpSZP5aZr87M8d66GzLzGZl5wr6C6b50u93Z/QFaWNde21XXXttV117bVdde\n21XXXttVt1Sv4En4JUmSVBHDqSRJkqphOJUkSVI1DKeSJEmqhuFUkiRJ1TCcSpIkqRqGU0mSJFXD\ncCpJkqRqGE4lSZJUDcOpJEmSqmE4lSRJUjUMp5IkSaqG4VSSJEnVMJxKkiSpGoZTSZIkVcNwKkmS\npGoYTiVJklQNw6kkSZKqYTiVJElSNQynkiRJqobhVJIkSdUwnEqSJKkahlNJkiRVw3AqSZKkahhO\nJUmSVA3DqSRJkqphOJUkSVI1DKeSJEmqhuFUkiRJ1TCcSpIkqRqGU0mSJFXDcCpJkqRqGE4lSZJU\nDcOpJEmSqmE4lSRJUjUMp5IkSaqG4VSSJEnVMJxKkiSpGoZTSZIkVcNwKkmSpGoYTiVJklSNZSWL\nR8QvAGcC48BBwHHAc4A/AHYDWzPznN66ZwFnAw8D6zPz6pK9SZIkqT5Fw2lmfhD4IEBEXAxsAN4G\nnJeZmyPikog4HbgROBc4HngcsCUirs3Mh0v2J7XJyLZtLNm+faB1j1i5snA3kiSVUTScToiIpwM/\nlJm/FhFvz8zNvYeuAV5AM4q6JTN3ATsjogscC9w8F/1JbbBk+3YOWbt2oHXv37ixcDeSJJUxV8ec\nvhl4+xTL7wFWAiuAsb7l9wKj5duSJElSTYqH04gYBTqZuam3aHffwyuAu4GdNCF18nJJkiQtIiPj\n4+NFnyAi1gI/kZmv693/JPD7mbkpIi4BrgM2AdcCJ9BMnLoBeGpmPjRVzbGxsT1Nd7vdov1LtThq\n2zYOW7duoHXv3LiR21etKtyRJEnTt3r16j23R0dHRyY/PhfHnAbwlb77bwAujYjlwG3AFZk5HhEX\nAVuAEZoJU1MG08n6f8But/uY+7OlTXXttV11p1Nz6Y4d06rt+7W4P7Nt6rVUXXttV117bVfdUr3C\nHITTzHz3pPtd4KQp1ttAM5tfkiRJi5Qn4ZckSVI1DKeSJEmqhuFUkiRJ1TCcSpIkqRqGU0mSJFXD\ncCpJkqRqGE4lSZJUDcOpJEmSqmE4lSRJUjUMp5IkSaqG4VSSJEnVMJxKkiSpGoZTSZIkVcNwKkmS\npGoYTiVJklQNw6kkSZKqYTiVJElSNQynkiRJqobhVJIkSdUwnEqSJKkahlNJkiRVw3AqSZKkahhO\nJUmSVA3DqSRJkqphOJUkSVI1DKeSJEmqhuFUkiRJ1TCcSpIkqRqGU0mSJFXDcCpJkqRqGE4lSZJU\nDcOpJEmSqmE4lSRJUjUMp5IkSaqG4VSSJEnVMJxKkiSpGoZTSZIkVcNwKkmSpGoYTiVJklQNw6kk\nSZKqYTiVJElSNZaVfoKIeBNwGrAceB+wCbgc2A1szcxzeuudBZwNPAysz8yrS/cmSZKkuhQdOY2I\nNcCJmfks4CTgScCFwHmZuQZYEhGnR8ThwLnAicApwAURsbxkb5IkSapP6d36LwS2RsRfAn8FXAUc\nn5mbe49fA5wMPAPYkpm7MnMn0AWOLdybJEmSKlN6t/4TaEZLfwp4Mk1A7Q/E9wArgRXAWN/ye4HR\nwr1JkiSpMiPj4+PFikfEBcAdmfme3v1bgadk5iG9+6cBzweuBU7tO/70SuAdmXnLVHXHxsb2NN3t\ndov1L9XkqG3bOGzduoHWvXPjRm5ftapwR5IkTd/q1av33B4dHR2Z/HjpkdMtwGuB90TE9wAHA/8Q\nEWsy89PAqcB1wE3A+og4ADgIOBrYOsgT9P+A3W73MfdnS5vq2mu76k6n5tIdO6ZV2/drcX9m29Rr\nqbr22q669tquuqV6hcLhNDOvjojnRMRngRHgNcBXgct6E55uA67IzPGIuIgmzI7QTJh6qGRvkiRJ\nqk/xU0ll5pumWHzSFOttADaU7keSJEn18iT8kiRJqobhVJIkSdUwnEqSJKkahlNJkiRVw3AqSZKk\nahhOJUmSVA3DqSRJkqphOJUkSVI1DKeSJEmqhuFUkiRJ1TCcSpIkqRqGU0mSJFXDcCpJkqRqGE4l\nSZJUDcOpJEmSqmE4lSRJUjUMp5IkSaqG4VSSJEnVMJxKkiSpGoZTSZIkVcNwKkmSpGoYTiVJklQN\nw6kkSZKqYTiVJElSNQynkiRJqobhVJIkSdUwnEqSJKkahlNJkiRVw3AqSZKkahhOJUmSVA3DqSRJ\nkqphOJUkSVI1DKeSJEmqhuFUkiRJ1TCcSpIkqRqGU0mSJFXDcCpJkqRqGE4lSZJUDcOpJEmSqmE4\nlSRJUjUMp5IkSarGstJPEBE3A2O9u9uA84HLgd3A1sw8p7feWcDZwMPA+sy8unRvkiRJqkvRcBoR\nBwJk5vP6ln0SOC8zN0fEJRFxOnAjcC5wPPA4YEtEXJuZD5fsT5IkSXUpPXJ6HHBwRPwtsBR4C3B8\nZm7uPX4N8AKaUdQtmbkL2BkRXeBY4ObC/UmSJKkipY85vQ94V2a+EHgN8GFgpO/xe4CVwAoe3fUP\ncC8wWrg3SZIkVWZkfHy8WPGIOABYkpkP9O7/M83I6fLe/dOA5wPXAqf2HX96JfCOzLxlqrpjY2N7\nmu52u8X6l2py1LZtHLZu3UDr3rlxI7evWlW4I0mSpm/16tV7bo+Ojo5Mfrz0bv1XAT8MnBMR30Mz\nSnptRKzJzE8DpwLXATcB63th9iDgaGDrIE/Q/wN2u93H3J8tbaprr+2qO52aS3fsmFZt36/F/Zlt\nU6+l6tpru+raa7vqluoVyofTDcCfRMRmmuNKzwT+C7gsIpYDtwFXZOZ4RFwEbKHZ7X9eZj5UuDdJ\nkiRVpmg47c22P2OKh06aYt0NNGFWkiRJi5Qn4ZckSVI1DKeSJEmqhuFUkiRJ1TCcSpIkqRqGU0mS\nJFXDcCpJkqRqGE4lSZJUDcOpJEmSqmE4lSRJUjUMp5IkSaqG4VSSJEnVMJxKkiSpGoZTSZIkVcNw\nKkmSpGoYTiVJklQNw6kkSZKqYTiVJElSNQynkiRJqobhVJIkSdUwnEqSJKkahlNJkiRVw3AqSZKk\nahhOJUmSVA3DqSRJkqphOJUkSVI1DKeSJEmqhuFUkiRJ1TCcSpIkqRqGU0mSJFXDcCpJkqRqGE4l\nSZJUjYHCaURsmGLZx2e/HUmSJC1my/b1YERcAnwv8JyIOKzvoeXA0SUbkyRJ0uKzz3AKbACOAY4D\n+kdKdwE3lGpKkiRJi9M+w2lm/gvwLxHx95m5fY56kiRJ0iK1v5HTCT8QEX8GPB4YmViYmccW6UqS\nJEmL0qDh9L3AB4BbgPFy7UiSJGkxGzScPpSZFxbtRJIkSYveoOc53RoRP1y0E0mSJC16g46cPhm4\nOSJuB+6fWOgxp5IkSZpNg4bTtxTtQpIkSWLwcPqFmT5BRDwR+Bfg+cAjwOXAbmBrZp7TW+cs4Gzg\nYWB9Zl490+eTJElSew16zOk3gTv7/r4T+Nf9/aOIWAb8EXBfb9GFwHmZuQZYEhGnR8ThwLnAicAp\nwAURsXxaP4UkSZIWhIFGTjNzT4jtBceX0Fw1an/eDVwCvJnm/KjHZ+bm3mPXAC+gGUXdkpm7gJ0R\n0QWOBW4e9IeQJEnSwjDoyOkemflwZn4EOHlf60XEmcAdmfl3PHri/v7nuwdYCawAxvqW3wuMTrcv\nSZIktd/I+Pj+z6kfEY/v/zfA04H3ZeYP7OPffJpmVBSaUdYu8LTMPKD3+Gk0x6FeC5zad/zplcA7\nMvOWvdUeGxvb03S3291v/9JCcNS2bRy2bt1A6965cSO3r1pVuCNJkqZv9erVe26Pjo6OTH580AlR\n36S5MtREgTuA1+7rH/SOKwUgIq4DfgV4V0Q8NzM3AacC1wE3Aesj4gDgIOBoYOuAfT3mB+x2u4+5\nP1vaVNde21V3OjWX7tgxrdq+X4v7M9umXkvVtdd21bXXdtUt1SvM4JjTIb0BuLR33OptwBWZOR4R\nFwFbaMLveZn50Cw9nyRJklpkoHAaEUtoguWpwHKaXfHn9yYx7VdmPq/v7klTPL4B2DBILUmSJC1c\ng46IXgA8D/g/NKeDehbwrlJNSZIkaXEa9JjTU4CnZ+bDABFxNfB54PWlGpMkSdLiM+jI6ZKJYAqQ\nmQ/SXM1JkiRJmjWDjpzeGhHvAS7u3f81BrhClCRJkjQdg46cngN8F3A9cCPwBJpLjkqSJEmzZp8j\np71zj14KfCIzz+wtuxp4BNhZvDtJkiQtKvsbOf0dmkuMXt+37CzgO4G3F+pJkiRJi9T+wulPAa/I\nzDsmFmTm14FXAj9dsjFJkiQtPvsLpw9l5v2TF2bmTuDBMi1JkiRpsdpfOH0kIlZMXthbtrxMS5Ik\nSVqs9hdO/wK4LCIOnljQu30Z8PGSjUmSJGnx2d95Tv8A+CNgR0T8G02Y/UHgwzSTpSRJkqRZs89w\nmpm7gbMj4nzgeGA38NnepChJkiRpVg10hajM/Crw1aKdSJIkadEb9ApRkiRJUnGGU0mSJFXDcCpJ\nkqRqGE4lSZJUDcOpJEmSqmE4lSRJUjUMp5IkSaqG4VSSJEnVGOgk/JKk6RnZto0l27cPtO4RK1cW\n7kaS2sNwKkkFLNm+nUPWrh1o3fs3bizcjSS1h7v1JUmSVA3DqSRJkqphOJUkSVI1DKeSJEmqhuFU\nkiRJ1TCcSpIkqRqGU0mSJFXDcCpJkqRqGE4lSZJUDcOpJEmSqmE4lSRJUjUMp5IkSaqG4VSSJEnV\nMJxKkiSpGoZTSZIkVcNwKkmSpGosK1k8IpYAlwIB7AZ+BXgQuLx3f2tmntNb9yzgbOBhYH1mXl2y\nN0mSJNWn9MjpWmA8M58NvBU4H7gQOC8z1wBLIuL0iDgcOBc4ETgFuCAilhfuTZIkSZUpGk4z85M0\no6EARwF3Acdn5ubesmuAk4FnAFsyc1dm7gS6wLEle5MkSVJ9ih9zmpm7I+Jy4CLgz4GRvofvAVYC\nK4CxvuX3AqOle5MkSVJd5mRCVGaeCXSAy4CD+h5aAdwN7KQJqZOXS5IkaREZGR8fL1Y8Is4AjszM\nd0bESuBWml3252fmpyPiEuA6YBNwLXACTXi9AXhqZj40Vd2xsbE9TXe73WL9SzU5ats2Dlu3bqB1\n79y4kdtXrSrckfbF90uSprZ69eo9t0dHR0cmP150tj5wJfAnEfHp3nO9FvgScFlvwtNtwBWZOR4R\nFwFbaHb7n7e3YDpZ/w/Y7XYfc3+2tKmuvbar7nRqLt2xY1q1fb98v9ryupaqa6/tqmuv7apbqlco\nHE4z8z7gZVM8dNIU624ANpTsR5IkSXXzJPySJEmqhuFUkiRJ1TCcSpIkqRqGU0mSJFXDcCpJkqRq\nGE4lSZJUDcOpJEmSqmE4lSRJUjUMp5IkSaqG4VSSJEnVMJxKkiSpGoZTSZIkVcNwKkmSpGoYTiVJ\nklQNw6kkSZKqYTiVJElSNQynkiRJqobhVJIkSdUwnEqSJKkahlNJkiRVw3AqSZKkahhOJUmSVA3D\nqSRJkqphOJUkSVI1DKeSJEmqhuFUkiRJ1TCcSpIkqRqGU0mSJFXDcCpJkqRqGE4lSZJUDcOpJEmS\nqmE4lSRJUjUMp5IkSarGsvluQFpoRrZtY8n27QOte8TKlYW7kSSpXQyn0ixbsn07h6xdO9C692/c\nWLgbSZLaxd36kiRJqobhVJIkSdUwnEqSJKkahlNJkiRVwwlRkmadZyyQJM2U4VTSrPOMBZKkmSoW\nTiNiGfAB4PuBA4D1wBeBy4HdwNbMPKe37lnA2cDDwPrMvLpUX5IkSapXyWNOzwC+mZnPBU4BLgYu\nBM7LzDXAkog4PSIOB84FTuytd0FELC/YlyRJkipVcrf+RuBjvdtLgV3A8Zm5ubfsGuAFNKOoWzJz\nF7AzIrrAscDNBXuTJElShYqF08y8DyAiVtCE1LcA7+5b5R5gJbACGOtbfi8wWqovSZIk1avohKiI\n+D7gSuDizPxIRPxe38MrgLuBnTQhdfJyqThnlcvPgCTVZWR8fLxI4d6xpP8InJOZ/9hb9kng9zNz\nU0RcAlwHbAKuBU4ADgJuAJ6amQ/trfbY2NieprvdbpH+tTgctW0bh61bN9C6d27cyO2rVs1LzZJ1\nS7DXdr0GkjSXVq9evef26OjoyOTHS46cvhn4TuCtEfE2YBz4deAPexOebgOuyMzxiLgI2AKM0EyY\n2mswnaz/B+x2u4+5P1vaVNdep1d36Y4d06o9SN0SNUvWHdR8v67TNWi/vl8Lt669tquuvbarbqle\noewxp68DXjfFQydNse4GYEOpXiRJktQOXr5UkiRJ1TCcSpIkqRqGU0mSJFXDcCpJkqRqGE4lSZJU\nDcOpJEmSqmE4lSRJUjWKXr5UklS/Updw9dKwkmbCcCpJi9yS7ds5ZO3agda9f+PGea8raWFzt74k\nSZKqYTiVJElSNQynkiRJqobhVJIkSdUwnEqSJKkahlNJkiRVw1NJSZIWPc/JKtXDcCpJWvQ8J6tU\nD3frS5IkqRqGU0mSJFXDcCpJkqRqeMypJLXIoBN3nLQjqa0Mp5LUIoNO3HHSjqS2cre+JEmSquHI\nqTSgrz3uGL6+eel+13vSsg7HzkE/kiQtRIZTaUD/+a1DOO2Vh+x3vas+dLDhVJKkGXK3viRJkqph\nOJUkSVI1DKeSJEmqhuFUkiRJ1TCcSpIkqRqGU0mSJFXDcCpJkqRqGE4lSZJUDcOpJEmSqmE4lSRJ\nUjW8fKmk1hjZto0l27cPtO4RK1cW7kaSVILhVFJrLNm+nUPWrh1o3fs3bizcjSSpBHfrS5IkqRqG\nU0mSJFXDcCpJkqRqeMyptMgNOsnICUaSpLlQPJxGxDOBd2bmj0fEDwCXA7uBrZl5Tm+ds4CzgYeB\n9Zl5dem+JDUGnWTkBCNJ0lwouls/It4IXAoc2Ft0IXBeZq4BlkTE6RFxOHAucCJwCnBBRCwv2Zck\nSZLqVPqY038Hfrrv/o9k5ube7WuAk4FnAFsyc1dm7gS6wLGF+5IkSVKFiobTzPwEsKtv0Ujf7XuA\nlcAKYKxv+b3AaMm+JEmSVKe5nhC1u+/2CuBuYCdNSJ28fCDdbnef92dLm+ra6+B1j7r/fg6Z5efe\nvXv3/lfqU6rXEnXb1OugddvU63TrtqnX6dSdjoXY60Kua6/tqjvTmqtXr97n43MdTm+JiOdm5ibg\nVOA64CZgfUQcABwEHA1sHbRg/w/Y7Xb3+wPPRJvq2uv06i7dsWPWn3/JkuntkCjVa4m6bep10Lpt\n6nW6ddvU63TqDqrkd8FC/D6c77r22q66pXqFuQ+nbwAu7U14ug24IjPHI+IiYAvNbv/zMvOhOe5L\nkiRJFSgeTjPzduBZvdtd4KQp1tkAbCjdiyRJkurmFaIkSZJUDcOpJEmSquHlSyVJklpm0EtPQ/su\nP204lSRJaplBLz0N7bv8tLv1JUmSVI3Wj5wu3bx5z+22DVsPaiEP3UuSJPVrfTjtH9Ju27D1oBby\n0L0kSVK/1odTzY377juCzZuXDrTukUfuZtWq8cIdSVL9Bt3z5V4v6VGGUw3kG984kHXrBrvy9F//\n9b2sWvVI4Y4kqX6D7vlyr5f0KCdESZIkqRqOnGrWjTzwAEs337jf9dyNJUmSJjOcavY9+CCHvNTd\nWJIkafrcrS9JkqRqOHIqSZKK8DzdmgnDqSRJKsLzdGsmDKcLzNcedwxf93ykkiSpZ9BsUEsuMJwu\nMP/5rUM47ZWej1SSJDUGzQa15IJFG049DkaSJKk+izacehyMJElSfTyVlCRJkqqxaEdOp8NJRpJU\nVtsmbEgqx3A6ACcZSVJZbZuwsRA5F0O1MJxq3jgiPb3X4EnLOhxbuB9Ji5dzMVQLw6nmTakR6fvu\nO4LNLQl803kNrvrQwYZTzTt/oZJUmuFUrTDywAMs3XzjQOve9e0TePHPGvikEub7F6rpfBe461lq\nJ8Op2uHBBznkpYPtblryp/9RuBlJ82Ya3wXuei5n0BH0UqPnC/X42Dbt+SvJcCpJkqZl0BH0Unun\nFurxsd/4xoGsW+eeP89zKkmSpGosqJHTth2oP+jwfQ29SpIkzYUFFU7n+0D96Rp0+L6GXiVJjbYN\nhEhts6DCqSRJpc33QMhCnQwkTTCcSpLUIgt1MpA0wXA6y6ZzDr4Ddp9QuBtJkqR2MZzOthadj9Mg\nLUmSamM4XcxaFKSlhcwJNpLbgR5lOJWkeTbfE2ykGrgdaIIn4ZckSVI1HDmVtCCVuPa3ux3bpU3v\nV6le2/QaLFTTOfWX8zsahlNJC1KJa3+727Fd2vR+leq1Ta/BQjWdU385v6NhOJUkSQvWdEaPjzxy\nN6tWjRfuSPtjOJUkSQvWtEaPP/ZNnrJ9/6dY9MpbZVUTTiNiBHgfcBzwAPDqzPzK/HYltZPHmUnS\nDAx4isUvX/VFbvU7tphqwinwYuDAzHxWRDwTuLC3TNI0lTjOzMArSQ2P5S2rpnD6bOBTAJn5zxHx\n9HnuR1Ifv4wlSXNhZHy8jgN/I+JS4IrM/Nve/a8CT87M3ZPXHRsbq6NpSZIkzdjo6OjI5GU1nYR/\nJ7Ci7/6SqYKpJEmSFq6awulngBcBRMSPAl+Y33YkSZI012o65vQTwMkR8Zne/V/c24pTDQFLkiSp\n/ao55lSSJEmqabe+JEmSFjnDqSRJkqphOJUkSVI1DKeSJEmqhuFUkiRJ1TCcSpIkqRo1ned0WiLi\nicD/AB4CNgBX0lxh6tWZed0QdZ8AXAA8GzgI+BrNBQLekZn3zrDmocBbgecDK4G7gc3Ab2fmHTPt\ntZSI+G7gfwJ30Zx/9kpgF/CLmXnDDGseMGnRtcDJwEhmPjREr+sz8y0R0QE+BHw3zXt2ZmZ+eYY1\nXwQ8Bfhr4HKgA9wO/Epm3jpEr35mC+hdtOO9wP3AmzJzS2/5JzLzp4eo62c24uvAz2fmP8y0xhQ1\nW7Md9Oou6m2hTdtBr+6sbwtt+mwVfF1n/btgX1obTmle9I00b+hm4IXAncDHgRl/wQGXAhcD5wKn\nA08C/i/Nl+jLZljzg8CfAW8D7qH5In4R8Oc0H8oZiYgPA1NekCAzXzHTujT9fpjmZ/874LnAt3vL\n1syw5h3AA8B9ND0fAXwZGAeePESvJ/b+vhB4fWZ+JiKOo/mCPnmGNd8OvBh4P/DWzNzUq/lHfc83\nE35my3xmfx94ObAc+LOIeFNmXgt85wzrTfAzC98AXhcRr6T5D/MrQ9Sa0KbtAApsCwW/u0tsC23a\nDqDMttCazxblXtcS3wV71eZw+h2ZeRlARPxSZn6hd3vXkHUP7fvN4KMR8U+ZeVJE/OYQNVdm5kf7\n7u8EPhIR5wxRE+AKYD3wmiHrTHZgZn4QICJOyszs3d49RM0fBd4NvDkzvxAR/5iZPz4LvU54XGZ+\nBiAzPx8Ry4eo9WBmfj0iyMxNfTWH7dHPbJnP7MMTIwK9UZO/i4hX0PznOQw/s3BXZq6NiJ+hef/v\nAq4BvpKZfzXDmm3aDqDMtlDqu7vEttCm7QDKbAtt+mxNmO3XtcR3wV61OZzeGxHvpPnt+8CIOAsY\nA2Y8xN5zT0S8ieZFPw34Sm9XyTDuiIi3AZ/q9Tjx29H/G6ZoZn4iItYAT8zMjw3ZY7+7IuJ/Aesz\n8ycAIuIMmt+eZyQzvxQRLwfeHxFXMXxwmNCJiE8CoxHxEuCvgNcx3Ofg5oi4GLg+IjYAV9G8X18c\nslc/s2U+szsj4rXAH2fmjt5/xhuBA4cp6mcW6I3uZeaVwJUR8YM0Izon0/Q9E23aDmDqbeEnGWJb\nKPjdPevbQsu2A5h6W/hJhtsW5vKzNez3bKnXtcR3wV61eULUzwJfBz4G/AxwCs2L9Ooh654BHAqc\nT7NBvxZ4PPDKIWveQ3Mc58XAm2k+KL8wVKdAZr5ulr/cAF4B3JOZ/V9CRzJkv5l5T2a+nOZ4oO8b\nplZfzSOB3wD+N81uh2U0798ZQ5T9DeAm4BiaPtcBtzL8KIefWYp8Zs+g+XkP7NX/AvAS4F+HLdz3\nmV1Nmc/sHTz6mf25IcqW+sx+qv9OZt6WmX+YmecOUbNN28FE3f5t4U00I1zDfh+W+O4usi1M2g6O\nHLbJXs29bQfDfHfD1NvC5xhuW5irz9bQ37OF/k+EMt8FezUyPj5bvwTNvd4w9bHAKM2BxFuHOUB7\nUt3jePQA5VmpK7VJRBwDPJCZ/9637JmZ+c+11W1Tr6Xq2mu5upOe4yTgkczcPIs11wC7Z7Nmqbol\nfv5e3VKvwUnMQr8R8R00ueBxwDdpckF7A9QMRMShmflfEfEU4KnAFzNz2L0zU2ptOI2In6SZPdel\n+U1jBXDEIm9qAAAGr0lEQVQ0cF5m/mVNdeO/z3bcY5jQ26a69tquuhHxVpqJKsuAW4BzMnM8Iq7L\nzOfNrNPH1F3eq/urw9YtUXOqupn5mt7yYeu+DXjBbPbr+/XfXoPPzWLdl9JMNLqfZjLXGppDnG7M\nzHfMYs0HgRtmWnM/da/PzPUt6HWo17VUv71c8Ds0ueBZwI00o7JvzN4ZEWZYt03/f10MfJVmNPb1\nwCaa45GvyMx3z7Tu3rT5mNO3AM/OzJ0TCyJiFPh7YMbhtFDdLwCHA9+iOW5jvO/vYWY7tqmuvbar\n7osy80SAiHgXzUzPX2UvM4znue6c9BoR78vM2ah7altfg0XYK8BvAj9Ec0qeG2hmqz8CbAFmGqL6\na17f+3vYmvurO6NwOk+9zlbd2Xq/3gg8KzMfjOb0TxfR/CJ0NfCcIXpt0/9fP5KZvxYRm4DnZOa3\nI2IZzWtsOO2znObUFv3uZ/iDtUvUfTbwt8BPZOZdQ9Rpc117bVfdPf+hZ+YbI+LDEfFGht++StRt\nU6+l6tprubpLgPsysxsRv5WZuwAiYpg5G/013z5LNUvVbVOvk+vO1vs1CkycreYB4EmZuTMihpp0\nSbv+/yIiHg98hebQhm/THPo47C9/U2rzhKj3A7dExPsi4oKIeC/NQdB/XFvdzLyT5iD644fsrbV1\n7bV1dT8aEZ/tfRkBvIpmZuawM1RL1G1Tr6Xq2mu5uh8Ebo2IJZn5XoCI+DjwN5XVtNdydT8CfDYi\n3kOzO/tPIuLXaQ5LmbE2/f9Fc1jDp4EDgM9Hc0aAm4Dfm+XnaYyPj7f2T6fTObzT6aztdDo/1/v7\n8Jrr+sc/bfrT6XRWdTqdZZOWvbjGum3q1degXb32ahw66X6nxpr2WvQ1OKbT6by00+kc3bv/hNno\ntU1/Op3OIZ1O5wWdTucVnU7nhZ1O57BSz9XaCVGSJEltFRGH0ZxG6gHgPZn5X73lv5WZv11Lzb08\nz4WZ+RuzVW+y1h5zGhFn7+2xzHx/TXXb1Gupuvbarrr22q669tquuvbarrqlegX+FPgETRbbFBEv\nyszbmfllwkvVJCKun7Toh6J3IYLMfNYwtafS2nBKc3qntTTXpe0/IHfYoeASddvUa6m69tquunur\nOawSddvUa6m69jr3dRfLd0ybei1Vt1SvB06E24i4FfhkNOdlHebzW6ImNBcJeBXw6zSTof4CePmQ\nNfduvo9hGPL4h7/pdDontKFum3r1NWhXr74G7erV16BdvfoatKvXNr0GnU5nU6fT+eG++y/rLbul\nppp9tZ7W6XSu7nQ60el0rpvt963/T5tn6wP8PM1lz/aYhVM7lKrbpl5L1bXXdtW113bVtdd21bXX\ndtUtUfNc4KKIeCJAZn6U5oxBR1VWk16tz9G8Du8EDoNZe7/+m9aG04hYS3Mah3+IiJf1PXRNbXXb\n1Gupuvbarrr22q669tquuvbarrqlegWeRHNi/Osn6mbmh4B/q6wmEbE2Im4HPgtspNnFD8O/BlNq\nbTiluZLTU4FnAr8cEb/QWz7scRUl6rap11J17bVdde21XXXttV117bVddUv2etwUdR+prOZE3YnX\n4Cyaq3BBoZPwt3lC1EMTVz+IiNOB6yLiPxj+AOUSddvUa6m69tquuvbarrr22q669tquuiV7vbtA\nr7Ndc6JuiddgSm0eOf1qRFwYEQdn5j3Az9BcS/noCuu2qddSde21XXXttV117bVdde21XXXttVzd\nKbU5nL4K+Fd6qT0zvwb8OM2xELXVbVOvperaa7vq2mu76tpru+raa7vq2mu5ulPyClGSJEmqRptH\nTiVJkrTAGE4lSZJUDcOpJEmSqtHmU0lJUmtFxI8Al/HoqVhGgO8FxoAE3pCZX5qn9iRp3jghSpIq\nEBFHA5uAV2XmVfPdjyTNF0dOJWmeRcShwFXAuzPzqojYBrwEWAG8C/hPmksS3gecmZk5b81KUmEe\ncypJ8ygilgIfAz6Tmb83xSpPA96VmccBlwMfmsP2JGnOGU4laX5dBHwHzfWqp/L5zLy+d/sDwNMi\n4rvmpDNJmgfu1pekeRIRvwz8FPD0zHxoL6vt6rs9MaDwSNHGJGkeOXIqSfMgItYA5wOnZ+ad+1j1\naRFxTO/22TS7/3cWb1CS5okjp5I0P95KcxqpD0TECI89pVT/wMEOYH1ErAK+Afz8nHYpSXPMU0lJ\nUqV6o6t/mJnHzncvkjRX3K0vSZKkajhyKkmSpGo4cipJkqRqGE4lSZJUDcOpJEmSqmE4lSRJUjUM\np5IkSaqG4VSSJEnV+P8hmQYC3tGwTAAAAABJRU5ErkJggg==\n",
      "text/plain": [
       "<matplotlib.figure.Figure at 0x11ada0690>"
      ]
     },
     "metadata": {},
     "output_type": "display_data"
    }
   ],
   "source": [
    "fig = plt.figure(figsize=(10,7))\n",
    "\n",
    "ax = fig.add_subplot(111)\n",
    "\n",
    "width = 0.5\n",
    "\n",
    "crimepivot.INCIDENT_TYPE_DESCRIPTION.plot(kind='bar', color='red', ax=ax, width=width, position=1)\n",
    "liqpivot.LICENSENO.plot(kind='bar', color='blue', ax=ax, width=width, position=0)\n",
    "\n",
    "ax.set_ylabel('Count')\n",
    "\n",
    "plt.show()"
   ]
  },
  {
   "cell_type": "markdown",
   "metadata": {},
   "source": [
    "Looking much better. However, since we are looking for a relationship with bars, we drop all zip codes which contain less than ten bars, as they are likely not significant contributors."
   ]
  },
  {
   "cell_type": "code",
   "execution_count": 167,
   "metadata": {
    "collapsed": false
   },
   "outputs": [],
   "source": [
    "dict = [2119, 2120, 2121, 2126, 2199, 2467]\n",
    "liquor = liquor[~liquor['Zip'].isin(dict)]"
   ]
  },
  {
   "cell_type": "code",
   "execution_count": 168,
   "metadata": {
    "collapsed": false
   },
   "outputs": [],
   "source": [
    "liqpivot2 = pd.pivot_table(liquor,index=['Zip'],values=['LICENSENO'],aggfunc=len)"
   ]
  },
  {
   "cell_type": "code",
   "execution_count": 170,
   "metadata": {
    "collapsed": false
   },
   "outputs": [],
   "source": [
    "crimepivot2 = pd.pivot_table(crime,index=['Zip'],values=['INCIDENT_TYPE_DESCRIPTION'],aggfunc=len)\n",
    "crimepivot2 = crimepivot2[crimepivot2.index.isin(liqpivot2.index)]"
   ]
  },
  {
   "cell_type": "code",
   "execution_count": 194,
   "metadata": {
    "collapsed": false
   },
   "outputs": [
    {
     "data": {
      "image/png": "iVBORw0KGgoAAAANSUhEUgAAAqcAAAHGCAYAAABJpSJmAAAABHNCSVQICAgIfAhkiAAAAAlwSFlz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\n",
      "text/plain": [
       "<matplotlib.figure.Figure at 0x11fdc3950>"
      ]
     },
     "metadata": {},
     "output_type": "display_data"
    }
   ],
   "source": [
    "fig = plt.figure(figsize=(10,7))\n",
    "\n",
    "ax = fig.add_subplot(111)\n",
    "\n",
    "width = 0.5\n",
    "\n",
    "crimepivot2.INCIDENT_TYPE_DESCRIPTION.plot(kind='bar', color='red', ax=ax, width=width, position=1)\n",
    "liqpivot2.LICENSENO.plot(kind='bar', color='blue', ax=ax, width=width, position=0)\n",
    "\n",
    "ax.set_ylabel('Count')\n",
    "\n",
    "plt.show()"
   ]
  },
  {
   "cell_type": "markdown",
   "metadata": {},
   "source": [
    "# The Ratio!"
   ]
  },
  {
   "cell_type": "code",
   "execution_count": 206,
   "metadata": {
    "collapsed": false
   },
   "outputs": [
    {
     "data": {
      "text/plain": [
       "2.4912641315519015"
      ]
     },
     "execution_count": 206,
     "metadata": {},
     "output_type": "execute_result"
    }
   ],
   "source": [
    "float(crimepivot2['INCIDENT_TYPE_DESCRIPTION'].sum()) / float(liqpivot2['LICENSENO'].sum())"
   ]
  },
  {
   "cell_type": "markdown",
   "metadata": {},
   "source": [
    "Before dropping the less-than-ten-bar areas this was at 3.554, but is more realistically related to bars now. With this as the baseline, we now calculate the same ratio for every zip code within Boston, and perform statistical testing on outliers."
   ]
  },
  {
   "cell_type": "code",
   "execution_count": 196,
   "metadata": {
    "collapsed": false
   },
   "outputs": [],
   "source": [
    "ratios = pd.merge(liqpivot2, crimepivot2, left_index=True, right_index=True, how='inner')\n",
    "ratios.columns = ['Bars', 'Crimes']"
   ]
  },
  {
   "cell_type": "code",
   "execution_count": 207,
   "metadata": {
    "collapsed": false
   },
   "outputs": [],
   "source": [
    "ratios['Ratio'] = ratios.Crimes / ratios.Bars"
   ]
  },
  {
   "cell_type": "code",
   "execution_count": 208,
   "metadata": {
    "collapsed": false
   },
   "outputs": [],
   "source": [
    "ratios = ratios.sort_values(by='Ratio', ascending=False)"
   ]
  },
  {
   "cell_type": "code",
   "execution_count": 209,
   "metadata": {
    "collapsed": false
   },
   "outputs": [
    {
     "data": {
      "text/html": [
       "<div>\n",
       "<table border=\"1\" class=\"dataframe\">\n",
       "  <thead>\n",
       "    <tr style=\"text-align: right;\">\n",
       "      <th></th>\n",
       "      <th>Bars</th>\n",
       "      <th>Crimes</th>\n",
       "      <th>Ratio</th>\n",
       "    </tr>\n",
       "    <tr>\n",
       "      <th>Zip</th>\n",
       "      <th></th>\n",
       "      <th></th>\n",
       "      <th></th>\n",
       "    </tr>\n",
       "  </thead>\n",
       "  <tbody>\n",
       "    <tr>\n",
       "      <th>2125</th>\n",
       "      <td>24</td>\n",
       "      <td>347</td>\n",
       "      <td>14.458333</td>\n",
       "    </tr>\n",
       "    <tr>\n",
       "      <th>2124</th>\n",
       "      <td>16</td>\n",
       "      <td>202</td>\n",
       "      <td>12.625000</td>\n",
       "    </tr>\n",
       "    <tr>\n",
       "      <th>2122</th>\n",
       "      <td>17</td>\n",
       "      <td>121</td>\n",
       "      <td>7.117647</td>\n",
       "    </tr>\n",
       "    <tr>\n",
       "      <th>2131</th>\n",
       "      <td>16</td>\n",
       "      <td>79</td>\n",
       "      <td>4.937500</td>\n",
       "    </tr>\n",
       "    <tr>\n",
       "      <th>2130</th>\n",
       "      <td>34</td>\n",
       "      <td>163</td>\n",
       "      <td>4.794118</td>\n",
       "    </tr>\n",
       "    <tr>\n",
       "      <th>2118</th>\n",
       "      <td>48</td>\n",
       "      <td>226</td>\n",
       "      <td>4.708333</td>\n",
       "    </tr>\n",
       "    <tr>\n",
       "      <th>2127</th>\n",
       "      <td>46</td>\n",
       "      <td>178</td>\n",
       "      <td>3.869565</td>\n",
       "    </tr>\n",
       "    <tr>\n",
       "      <th>2128</th>\n",
       "      <td>52</td>\n",
       "      <td>179</td>\n",
       "      <td>3.442308</td>\n",
       "    </tr>\n",
       "    <tr>\n",
       "      <th>2136</th>\n",
       "      <td>13</td>\n",
       "      <td>42</td>\n",
       "      <td>3.230769</td>\n",
       "    </tr>\n",
       "    <tr>\n",
       "      <th>2135</th>\n",
       "      <td>24</td>\n",
       "      <td>66</td>\n",
       "      <td>2.750000</td>\n",
       "    </tr>\n",
       "    <tr>\n",
       "      <th>2129</th>\n",
       "      <td>17</td>\n",
       "      <td>43</td>\n",
       "      <td>2.529412</td>\n",
       "    </tr>\n",
       "    <tr>\n",
       "      <th>2108</th>\n",
       "      <td>35</td>\n",
       "      <td>81</td>\n",
       "      <td>2.314286</td>\n",
       "    </tr>\n",
       "    <tr>\n",
       "      <th>2132</th>\n",
       "      <td>18</td>\n",
       "      <td>31</td>\n",
       "      <td>1.722222</td>\n",
       "    </tr>\n",
       "    <tr>\n",
       "      <th>2114</th>\n",
       "      <td>48</td>\n",
       "      <td>72</td>\n",
       "      <td>1.500000</td>\n",
       "    </tr>\n",
       "    <tr>\n",
       "      <th>2215</th>\n",
       "      <td>62</td>\n",
       "      <td>89</td>\n",
       "      <td>1.435484</td>\n",
       "    </tr>\n",
       "    <tr>\n",
       "      <th>2116</th>\n",
       "      <td>146</td>\n",
       "      <td>201</td>\n",
       "      <td>1.376712</td>\n",
       "    </tr>\n",
       "    <tr>\n",
       "      <th>2111</th>\n",
       "      <td>63</td>\n",
       "      <td>83</td>\n",
       "      <td>1.317460</td>\n",
       "    </tr>\n",
       "    <tr>\n",
       "      <th>2134</th>\n",
       "      <td>42</td>\n",
       "      <td>49</td>\n",
       "      <td>1.166667</td>\n",
       "    </tr>\n",
       "    <tr>\n",
       "      <th>2109</th>\n",
       "      <td>51</td>\n",
       "      <td>58</td>\n",
       "      <td>1.137255</td>\n",
       "    </tr>\n",
       "    <tr>\n",
       "      <th>2115</th>\n",
       "      <td>46</td>\n",
       "      <td>44</td>\n",
       "      <td>0.956522</td>\n",
       "    </tr>\n",
       "    <tr>\n",
       "      <th>2110</th>\n",
       "      <td>36</td>\n",
       "      <td>28</td>\n",
       "      <td>0.777778</td>\n",
       "    </tr>\n",
       "    <tr>\n",
       "      <th>2210</th>\n",
       "      <td>41</td>\n",
       "      <td>16</td>\n",
       "      <td>0.390244</td>\n",
       "    </tr>\n",
       "    <tr>\n",
       "      <th>2113</th>\n",
       "      <td>78</td>\n",
       "      <td>26</td>\n",
       "      <td>0.333333</td>\n",
       "    </tr>\n",
       "  </tbody>\n",
       "</table>\n",
       "</div>"
      ],
      "text/plain": [
       "      Bars  Crimes      Ratio\n",
       "Zip                          \n",
       "2125    24     347  14.458333\n",
       "2124    16     202  12.625000\n",
       "2122    17     121   7.117647\n",
       "2131    16      79   4.937500\n",
       "2130    34     163   4.794118\n",
       "2118    48     226   4.708333\n",
       "2127    46     178   3.869565\n",
       "2128    52     179   3.442308\n",
       "2136    13      42   3.230769\n",
       "2135    24      66   2.750000\n",
       "2129    17      43   2.529412\n",
       "2108    35      81   2.314286\n",
       "2132    18      31   1.722222\n",
       "2114    48      72   1.500000\n",
       "2215    62      89   1.435484\n",
       "2116   146     201   1.376712\n",
       "2111    63      83   1.317460\n",
       "2134    42      49   1.166667\n",
       "2109    51      58   1.137255\n",
       "2115    46      44   0.956522\n",
       "2110    36      28   0.777778\n",
       "2210    41      16   0.390244\n",
       "2113    78      26   0.333333"
      ]
     },
     "execution_count": 209,
     "metadata": {},
     "output_type": "execute_result"
    }
   ],
   "source": [
    "ratios"
   ]
  },
  {
   "cell_type": "markdown",
   "metadata": {},
   "source": [
    "The above shows correlation, but not causation. In order to prove a connection between number of bars and crimes, we need to compare areas with many bars versus with few.\n",
    "\n",
    "There should be a significant difference between the crime to bar ratios in areas with more versus less bars than the median."
   ]
  },
  {
   "cell_type": "code",
   "execution_count": 212,
   "metadata": {
    "collapsed": false
   },
   "outputs": [
    {
     "data": {
      "text/plain": [
       "41.0"
      ]
     },
     "execution_count": 212,
     "metadata": {},
     "output_type": "execute_result"
    }
   ],
   "source": [
    "ratios['Bars'].median()"
   ]
  },
  {
   "cell_type": "code",
   "execution_count": 242,
   "metadata": {
    "collapsed": false
   },
   "outputs": [],
   "source": [
    "above = ratios[ratios['Bars'] > 41]\n",
    "below = ratios[ratios['Bars'] < 41]"
   ]
  },
  {
   "cell_type": "code",
   "execution_count": 243,
   "metadata": {
    "collapsed": false
   },
   "outputs": [
    {
     "name": "stdout",
     "output_type": "stream",
     "text": [
      "\n",
      "Average Crimes in areas with Above Average Bars:\n",
      "109.545454545\n",
      "Average Crimes in areas with Below Average Bars:\n",
      "109.363636364\n",
      "\n",
      "TEST_STAT:\n",
      "0.0050\n",
      "\n",
      "PVALUE:\n",
      "0.9961\n"
     ]
    }
   ],
   "source": [
    "test_stat, pvalue = stats.ttest_ind(above.Crimes, below.Crimes, equal_var=False)\n",
    "\n",
    "print \"\\nAverage Crimes in areas with Above Average Bars:\\n\", above['Crimes'].mean()\n",
    "print \"Average Crimes in areas with Below Average Bars:\\n\", below['Crimes'].mean()\n",
    "print \"\\nTEST_STAT:\\n\", \"{0:.4f}\".format(test_stat)\n",
    "print \"\\nPVALUE:\\n\", \"{0:.4f}\".format(pvalue)"
   ]
  },
  {
   "cell_type": "markdown",
   "metadata": {},
   "source": [
    "### What this means: there is no evidence to support rejecting the null hypothesis. The number of crimes in an area have no relationship to the number of bars in an area, and while we can find correlation as in the case of Bayside Doubletree, no causation can be attributed to bars."
   ]
  }
 ],
 "metadata": {
  "kernelspec": {
   "display_name": "Python 2",
   "language": "python",
   "name": "python2"
  },
  "language_info": {
   "codemirror_mode": {
    "name": "ipython",
    "version": 2
   },
   "file_extension": ".py",
   "mimetype": "text/x-python",
   "name": "python",
   "nbconvert_exporter": "python",
   "pygments_lexer": "ipython2",
   "version": "2.7.11"
  }
 },
 "nbformat": 4,
 "nbformat_minor": 0
}
